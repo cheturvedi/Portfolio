{
  "nbformat": 4,
  "nbformat_minor": 0,
  "metadata": {
    "colab": {
      "name": "DLA2Try1.ipynb",
      "provenance": [],
      "collapsed_sections": []
    },
    "kernelspec": {
      "name": "python3",
      "display_name": "Python 3"
    },
    "accelerator": "TPU"
  },
  "cells": [
    {
      "cell_type": "markdown",
      "metadata": {
        "id": "DwHXXp1pwuEz",
        "colab_type": "text"
      },
      "source": [
        "# Large Movie Review Dataset Sentiment Analysis\n",
        "\n",
        "The IMDB Movie review dataset is for binary sentiment classification containing substantially more data than previous benchmark datasets. It has  \n",
        "\n",
        "*   50,000 reviews with 25,000 positive reviews & 25000, negative reviews\n",
        "*   A total of 108848 distinct words in the corpus\n",
        "*   An average of 231 words per review\n",
        "*   Biggest review with 2470 words and smallest review with 4 words\n",
        "\n"
      ]
    },
    {
      "cell_type": "code",
      "metadata": {
        "id": "55AO62YZ1j9Q",
        "colab_type": "code",
        "colab": {}
      },
      "source": [
        "# Load all the required py modules\n",
        "import pandas as pd\n",
        "import numpy as np\n",
        "\n",
        "from sklearn.model_selection import train_test_split\n",
        "from sklearn.feature_extraction.text import CountVectorizer\n",
        "import nltk\n",
        "\n",
        "from sklearn.naive_bayes import MultinomialNB\n",
        "from sklearn.preprocessing import OneHotEncoder\n",
        "from sklearn.preprocessing import LabelEncoder\n",
        "from sklearn.metrics import accuracy_score,confusion_matrix\n",
        "from sklearn.metrics import classification_report\n",
        "\n",
        "import matplotlib.pyplot as plt\n",
        "\n",
        "import seaborn as sns\n",
        "\n",
        "%tensorflow_version 1.x"
      ],
      "execution_count": 0,
      "outputs": []
    },
    {
      "cell_type": "code",
      "metadata": {
        "id": "yYHz3Etx9Ql5",
        "colab_type": "code",
        "outputId": "b33f0d44-e493-453e-f71f-1d4fea3022e2",
        "colab": {
          "base_uri": "https://localhost:8080/",
          "height": 69
        }
      },
      "source": [
        "# Download the punkt package for tokenizing\n",
        "nltk.download('punkt')"
      ],
      "execution_count": 0,
      "outputs": [
        {
          "output_type": "stream",
          "text": [
            "[nltk_data] Downloading package punkt to /root/nltk_data...\n",
            "[nltk_data]   Package punkt is already up-to-date!\n"
          ],
          "name": "stdout"
        },
        {
          "output_type": "execute_result",
          "data": {
            "text/plain": [
              "True"
            ]
          },
          "metadata": {
            "tags": []
          },
          "execution_count": 80
        }
      ]
    },
    {
      "cell_type": "markdown",
      "metadata": {
        "id": "kcLxJfidacSK",
        "colab_type": "text"
      },
      "source": [
        "## Naive Bayes Classifier using SKLearn\n",
        "\n",
        "We will establish a benchmark accuracy using Naive bayes which our neural network will try to beat . Naive Bayes methods are a set of supervised learning algorithms based on applying Bayes’ theorem with the “naive” assumption of conditional independence between every pair of features given the value of the class variable.\n",
        "\n"
      ]
    },
    {
      "cell_type": "code",
      "metadata": {
        "id": "vvlYCVHo40xh",
        "colab_type": "code",
        "colab": {}
      },
      "source": [
        "# Read in aggregated dataset\n",
        "df = pd.read_csv('IMDB Dataset.csv')"
      ],
      "execution_count": 0,
      "outputs": []
    },
    {
      "cell_type": "code",
      "metadata": {
        "id": "RSvvlKx945tJ",
        "colab_type": "code",
        "colab": {}
      },
      "source": [
        "#tokenize the reviews\n",
        "tokeniser = CountVectorizer( tokenizer=nltk.word_tokenize)\n",
        "\n",
        "# Encode 'Positive' & 'Negative' classes to 1 & 0\n",
        "encoder = LabelEncoder()\n",
        "oneHotEncoder = OneHotEncoder()"
      ],
      "execution_count": 0,
      "outputs": []
    },
    {
      "cell_type": "code",
      "metadata": {
        "id": "7TbopHL_9q0O",
        "colab_type": "code",
        "colab": {}
      },
      "source": [
        "# Use 75 % of the reviews for training and test on 25%\n",
        "X_train,X_test,Y_train,Y_test = train_test_split(df.review, df.sentiment ,random_state = 32)"
      ],
      "execution_count": 0,
      "outputs": []
    },
    {
      "cell_type": "code",
      "metadata": {
        "id": "OSDr5xx2985l",
        "colab_type": "code",
        "colab": {}
      },
      "source": [
        "# reviews to tokenized form\n",
        "X_train_vec = tokeniser.fit_transform(X_train)"
      ],
      "execution_count": 0,
      "outputs": []
    },
    {
      "cell_type": "code",
      "metadata": {
        "id": "fO3RnsR5LSVO",
        "colab_type": "code",
        "colab": {}
      },
      "source": [
        "# 1,0 encoded classes\n",
        "Y_train_enc = encoder.fit_transform(Y_train)"
      ],
      "execution_count": 0,
      "outputs": []
    },
    {
      "cell_type": "code",
      "metadata": {
        "id": "9m36L9kf-wKs",
        "colab_type": "code",
        "outputId": "13835a93-195b-4423-c4e1-fe796b73e791",
        "colab": {
          "base_uri": "https://localhost:8080/",
          "height": 35
        }
      },
      "source": [
        "#Train\n",
        "clf = MultinomialNB()\n",
        "clf.fit(X_train_vec, Y_train_enc)"
      ],
      "execution_count": 0,
      "outputs": [
        {
          "output_type": "execute_result",
          "data": {
            "text/plain": [
              "MultinomialNB(alpha=1.0, class_prior=None, fit_prior=True)"
            ]
          },
          "metadata": {
            "tags": []
          },
          "execution_count": 86
        }
      ]
    },
    {
      "cell_type": "code",
      "metadata": {
        "id": "_2Yu1yfS--je",
        "colab_type": "code",
        "colab": {}
      },
      "source": [
        "#Test\n",
        "X_test_vec = tokeniser.transform(X_test)\n",
        "Y_test_enc = encoder.transform(Y_test)\n"
      ],
      "execution_count": 0,
      "outputs": []
    },
    {
      "cell_type": "code",
      "metadata": {
        "id": "Px1JlgzU_QBJ",
        "colab_type": "code",
        "colab": {}
      },
      "source": [
        "y_predicted = clf.predict(X_test_vec)"
      ],
      "execution_count": 0,
      "outputs": []
    },
    {
      "cell_type": "code",
      "metadata": {
        "id": "GGCk503d_Y5v",
        "colab_type": "code",
        "outputId": "e98de741-d5e6-49a7-bc28-670973eef913",
        "colab": {
          "base_uri": "https://localhost:8080/",
          "height": 35
        }
      },
      "source": [
        "accuracy_score(Y_test_enc,y_predicted)"
      ],
      "execution_count": 0,
      "outputs": [
        {
          "output_type": "execute_result",
          "data": {
            "text/plain": [
              "0.8408"
            ]
          },
          "metadata": {
            "tags": []
          },
          "execution_count": 89
        }
      ]
    },
    {
      "cell_type": "code",
      "metadata": {
        "id": "F6AA6VVM_p82",
        "colab_type": "code",
        "outputId": "124d4536-35be-4e2d-bb9f-23f94b8e011a",
        "colab": {
          "base_uri": "https://localhost:8080/",
          "height": 173
        }
      },
      "source": [
        "print(classification_report(Y_test_enc,y_predicted))"
      ],
      "execution_count": 0,
      "outputs": [
        {
          "output_type": "stream",
          "text": [
            "              precision    recall  f1-score   support\n",
            "\n",
            "           0       0.82      0.87      0.84      6169\n",
            "           1       0.87      0.81      0.84      6331\n",
            "\n",
            "    accuracy                           0.84     12500\n",
            "   macro avg       0.84      0.84      0.84     12500\n",
            "weighted avg       0.84      0.84      0.84     12500\n",
            "\n"
          ],
          "name": "stdout"
        }
      ]
    },
    {
      "cell_type": "markdown",
      "metadata": {
        "id": "d9fBQUwDZsFM",
        "colab_type": "text"
      },
      "source": [
        "## LSTM Implementation using Keras & Tensorflow\n",
        "\n",
        "Our choice of Neural Networks is Long Short-Term Memory networks (LSTM). LSTM’s are a special case of Recurrent Neural Networks (RNN) which has the capability of learning long-term dependencies. \n",
        "\n",
        "![LSTM architecture](https://i.stack.imgur.com/voZql.jpg)\n",
        "\n",
        "### Justification for using LSTM\n",
        "\n",
        "* LSTM networks don’t suffer from the vanishing gradient problem unlike RNNs\n",
        "* They can hold on to long term dependencies. The presence of many words in the review might have alter its meaning. LSTM can handle this scenario well.\n",
        "* Contains memory cell that can hold information for long period of time.\n",
        "* Gates at input, forget and output layers can be controlled to manage the information in a single LSTM cell.\n",
        "* Like RNN, LSTM can also handle sequences of data points."
      ]
    },
    {
      "cell_type": "code",
      "metadata": {
        "id": "y9uWwMd5KYXu",
        "colab_type": "code",
        "colab": {}
      },
      "source": [
        "from tensorflow.python.keras.preprocessing import sequence\n",
        "from keras.preprocessing.text import Tokenizer\n",
        "from keras.preprocessing.sequence import pad_sequences"
      ],
      "execution_count": 0,
      "outputs": []
    },
    {
      "cell_type": "code",
      "metadata": {
        "id": "TRXaa8tC_vuU",
        "colab_type": "code",
        "colab": {}
      },
      "source": [
        "from keras.models import Model\n",
        "from keras.utils import to_categorical\n",
        "from keras.wrappers.scikit_learn import KerasRegressor\n",
        "from sklearn.model_selection import cross_val_score\n",
        "from keras.models import Sequential\n",
        "from keras.layers import Input, Dense, Dropout, Embedding, Flatten, LSTM\n",
        "from keras import optimizers"
      ],
      "execution_count": 0,
      "outputs": []
    },
    {
      "cell_type": "code",
      "metadata": {
        "id": "oFHjlThkMaMr",
        "colab_type": "code",
        "colab": {}
      },
      "source": [
        "df = pd.read_csv('IMDB Dataset.csv')"
      ],
      "execution_count": 0,
      "outputs": []
    },
    {
      "cell_type": "code",
      "metadata": {
        "id": "dQ_1MFy4Mdhk",
        "colab_type": "code",
        "colab": {}
      },
      "source": [
        "X_train,X_test,Y_train,Y_test = train_test_split(df.review, df.sentiment ,random_state = 32)"
      ],
      "execution_count": 0,
      "outputs": []
    },
    {
      "cell_type": "markdown",
      "metadata": {
        "id": "uuJXJm590Xvp",
        "colab_type": "text"
      },
      "source": [
        "## Word embeddings\n",
        "\n",
        "The reviews are not always of the same length. The input to a neural network needs to equal length vectors. So, \n",
        "\n",
        "* Keras’s tokeniser was used to tokenize the input reviews\n",
        "* All the reviews were cut off to a maximum number of 500 words\n",
        "* Reviews with less than 500 words were padded to get a uniform length\n",
        "* Words were converted to the word index in the vocabulary\n",
        "* A word embedded layer was utilized to reduce the 500-dimension word vectors to 100-dimension word vectors\n"
      ]
    },
    {
      "cell_type": "code",
      "metadata": {
        "id": "zIsxV7f9KwAd",
        "colab_type": "code",
        "colab": {}
      },
      "source": [
        "# Tokenise the text\n",
        "tokenizer = Tokenizer()\n",
        "tokenizer.fit_on_texts(list(X_train))"
      ],
      "execution_count": 0,
      "outputs": []
    },
    {
      "cell_type": "code",
      "metadata": {
        "id": "Y4JoxzPCOYWw",
        "colab_type": "code",
        "colab": {}
      },
      "source": [
        "Y_train_enc = encoder.fit_transform(Y_train)"
      ],
      "execution_count": 0,
      "outputs": []
    },
    {
      "cell_type": "code",
      "metadata": {
        "id": "gMUdV_-6RDhm",
        "colab_type": "code",
        "colab": {}
      },
      "source": [
        "Y_test_enc = encoder.transform(Y_test)"
      ],
      "execution_count": 0,
      "outputs": []
    },
    {
      "cell_type": "code",
      "metadata": {
        "id": "Nvetq5e4Mori",
        "colab_type": "code",
        "outputId": "c2ae2dfe-751c-465b-9bca-f7fd35a39daf",
        "colab": {
          "base_uri": "https://localhost:8080/",
          "height": 35
        }
      },
      "source": [
        "# convert words to word in in vocabulary \n",
        "list_tokenized_train = tokenizer.texts_to_sequences(X_train)\n",
        "list_tokenized_test = tokenizer.texts_to_sequences(X_test)\n",
        "\n",
        "#Total unique words \n",
        "print(len(tokenizer.word_index))"
      ],
      "execution_count": 0,
      "outputs": [
        {
          "output_type": "stream",
          "text": [
            "108848\n"
          ],
          "name": "stdout"
        }
      ]
    },
    {
      "cell_type": "code",
      "metadata": {
        "id": "4k0ebaFbLvkX",
        "colab_type": "code",
        "colab": {}
      },
      "source": [
        "vocab_size = len(tokenizer.word_index) + 1\n",
        "maxlen = 500\n",
        "\n",
        "# This makes all reviews to be of size 500 Vector\n",
        "X_t = pad_sequences(list_tokenized_train, maxlen=maxlen)\n",
        "X_te = pad_sequences(list_tokenized_test, maxlen=maxlen)\n",
        "\n"
      ],
      "execution_count": 0,
      "outputs": []
    },
    {
      "cell_type": "code",
      "metadata": {
        "id": "2nm4aKyVOBJz",
        "colab_type": "code",
        "outputId": "1a02c9c7-e74c-4545-a40b-0aafa3867f0b",
        "colab": {
          "base_uri": "https://localhost:8080/",
          "height": 35
        }
      },
      "source": [
        "X_t.shape"
      ],
      "execution_count": 0,
      "outputs": [
        {
          "output_type": "execute_result",
          "data": {
            "text/plain": [
              "(37500, 500)"
            ]
          },
          "metadata": {
            "tags": []
          },
          "execution_count": 41
        }
      ]
    },
    {
      "cell_type": "code",
      "metadata": {
        "id": "j_MWHWQdABcv",
        "colab_type": "code",
        "outputId": "fc6d5e15-0584-4732-8a21-dd6456ed0f27",
        "colab": {
          "base_uri": "https://localhost:8080/",
          "height": 329
        }
      },
      "source": [
        "model = Sequential()\n",
        "\n",
        "# Find embeddings for input to 100 dimensions\n",
        "model.add(Embedding(vocab_size, 100, input_length=maxlen))\n",
        "model.add(Dropout(0.5))\n",
        "# LSTM for sentiment classification\n",
        "model.add(LSTM(64))\n",
        "model.add(Dropout(0.5))\n",
        "model.add(Dense(2, activation='softmax'))\n",
        "\n",
        "model.compile(loss='binary_crossentropy',\n",
        "              optimizer='adam',\n",
        "              metrics=['acc'])\n",
        "\n",
        "model.summary()"
      ],
      "execution_count": 0,
      "outputs": [
        {
          "output_type": "stream",
          "text": [
            "Model: \"sequential_3\"\n",
            "_________________________________________________________________\n",
            "Layer (type)                 Output Shape              Param #   \n",
            "=================================================================\n",
            "embedding_2 (Embedding)      (None, 500, 100)          10884900  \n",
            "_________________________________________________________________\n",
            "dropout_3 (Dropout)          (None, 500, 100)          0         \n",
            "_________________________________________________________________\n",
            "lstm_2 (LSTM)                (None, 64)                42240     \n",
            "_________________________________________________________________\n",
            "dropout_4 (Dropout)          (None, 64)                0         \n",
            "_________________________________________________________________\n",
            "dense_2 (Dense)              (None, 2)                 130       \n",
            "=================================================================\n",
            "Total params: 10,927,270\n",
            "Trainable params: 10,927,270\n",
            "Non-trainable params: 0\n",
            "_________________________________________________________________\n"
          ],
          "name": "stdout"
        }
      ]
    },
    {
      "cell_type": "code",
      "metadata": {
        "id": "1Q0HXe1NCuHC",
        "colab_type": "code",
        "outputId": "929eb405-729e-4eb8-d48d-37f45cce337d",
        "colab": {
          "base_uri": "https://localhost:8080/",
          "height": 436
        }
      },
      "source": [
        "history = model.fit([X_t], batch_size=32, y=to_categorical(Y_train_enc), verbose=1, validation_split=0.25, \n",
        "          shuffle=True, epochs=3)"
      ],
      "execution_count": 0,
      "outputs": [
        {
          "output_type": "stream",
          "text": [
            "WARNING:tensorflow:From /usr/local/lib/python3.6/dist-packages/keras/backend/tensorflow_backend.py:1033: The name tf.assign_add is deprecated. Please use tf.compat.v1.assign_add instead.\n",
            "\n",
            "WARNING:tensorflow:From /usr/local/lib/python3.6/dist-packages/keras/backend/tensorflow_backend.py:1020: The name tf.assign is deprecated. Please use tf.compat.v1.assign instead.\n",
            "\n",
            "WARNING:tensorflow:From /usr/local/lib/python3.6/dist-packages/keras/backend/tensorflow_backend.py:3005: The name tf.Session is deprecated. Please use tf.compat.v1.Session instead.\n",
            "\n",
            "Train on 28125 samples, validate on 9375 samples\n",
            "Epoch 1/3\n",
            "WARNING:tensorflow:From /usr/local/lib/python3.6/dist-packages/keras/backend/tensorflow_backend.py:190: The name tf.get_default_session is deprecated. Please use tf.compat.v1.get_default_session instead.\n",
            "\n",
            "WARNING:tensorflow:From /usr/local/lib/python3.6/dist-packages/keras/backend/tensorflow_backend.py:197: The name tf.ConfigProto is deprecated. Please use tf.compat.v1.ConfigProto instead.\n",
            "\n",
            "WARNING:tensorflow:From /usr/local/lib/python3.6/dist-packages/keras/backend/tensorflow_backend.py:207: The name tf.global_variables is deprecated. Please use tf.compat.v1.global_variables instead.\n",
            "\n",
            "WARNING:tensorflow:From /usr/local/lib/python3.6/dist-packages/keras/backend/tensorflow_backend.py:216: The name tf.is_variable_initialized is deprecated. Please use tf.compat.v1.is_variable_initialized instead.\n",
            "\n",
            "WARNING:tensorflow:From /usr/local/lib/python3.6/dist-packages/keras/backend/tensorflow_backend.py:223: The name tf.variables_initializer is deprecated. Please use tf.compat.v1.variables_initializer instead.\n",
            "\n",
            "28125/28125 [==============================] - 557s 20ms/step - loss: 0.6340 - acc: 0.6472 - val_loss: 0.5518 - val_acc: 0.7333\n",
            "Epoch 2/3\n",
            "28125/28125 [==============================] - 558s 20ms/step - loss: 0.4141 - acc: 0.8180 - val_loss: 0.3299 - val_acc: 0.8580\n",
            "Epoch 3/3\n",
            "28125/28125 [==============================] - 556s 20ms/step - loss: 0.2299 - acc: 0.9158 - val_loss: 0.3110 - val_acc: 0.8843\n"
          ],
          "name": "stdout"
        }
      ]
    },
    {
      "cell_type": "code",
      "metadata": {
        "id": "NZXLLrSsEwv_",
        "colab_type": "code",
        "outputId": "a347406a-4929-4d3b-8289-6731a9e36198",
        "colab": {
          "base_uri": "https://localhost:8080/",
          "height": 35
        }
      },
      "source": [
        "\n",
        "predicted = model.predict(X_te)\n",
        "Y_predicted = np.argmax(predicted, axis=1)\n",
        "print (accuracy_score(Y_test_enc,Y_predicted))\n"
      ],
      "execution_count": 0,
      "outputs": [
        {
          "output_type": "stream",
          "text": [
            "0.88136\n"
          ],
          "name": "stdout"
        }
      ]
    },
    {
      "cell_type": "code",
      "metadata": {
        "id": "b4iFh0psTAUr",
        "colab_type": "code",
        "outputId": "9c4dc18e-15c7-428e-8ebc-919d680f9a64",
        "colab": {
          "base_uri": "https://localhost:8080/",
          "height": 173
        }
      },
      "source": [
        "print (classification_report(Y_test_enc,Y_predicted))\n"
      ],
      "execution_count": 0,
      "outputs": [
        {
          "output_type": "stream",
          "text": [
            "              precision    recall  f1-score   support\n",
            "\n",
            "           0       0.85      0.92      0.88      6169\n",
            "           1       0.91      0.85      0.88      6331\n",
            "\n",
            "    accuracy                           0.88     12500\n",
            "   macro avg       0.88      0.88      0.88     12500\n",
            "weighted avg       0.88      0.88      0.88     12500\n",
            "\n"
          ],
          "name": "stdout"
        }
      ]
    },
    {
      "cell_type": "code",
      "metadata": {
        "id": "slt7Jt39VKot",
        "colab_type": "code",
        "outputId": "ecb027f9-364d-4ebe-fc4a-ce83ed0252b8",
        "colab": {
          "base_uri": "https://localhost:8080/",
          "height": 279
        }
      },
      "source": [
        "# Plot Accuracy vs Epoch to show learning rate\n",
        "df_result = pd.DataFrame({'epochs':history.epoch, 'accuracy': history.history['acc'], 'validation_accuracy': history.history['val_acc']})\n",
        "g = sns.pointplot(x=\"epochs\", y=\"accuracy\", data=df_result, fit_reg=False)"
      ],
      "execution_count": 0,
      "outputs": [
        {
          "output_type": "display_data",
          "data": {
            "image/png": "[encoded data removed]",
            "text/plain": [
              "<Figure size 432x288 with 1 Axes>"
            ]
          },
          "metadata": {
            "tags": []
          }
        }
      ]
    },
    {
      "cell_type": "code",
      "metadata": {
        "id": "ZGLEDh2nVtiD",
        "colab_type": "code",
        "colab": {}
      },
      "source": [
        "df_result.to_csv('EpochHistory.csv',index=False)"
      ],
      "execution_count": 0,
      "outputs": []
    },
    {
      "cell_type": "markdown",
      "metadata": {
        "id": "t6nuqAG4Ykpx",
        "colab_type": "text"
      },
      "source": [
        "Showing Incorrectly classified Reviews\n",
        "\n",
        "\n",
        "\n",
        "*   Find out all indices where our prediction & true label did not match (Logical XNOR )\n",
        "*   Sample the original Dataframe with these indices and dislay full reviews\n",
        "\n",
        "\n"
      ]
    },
    {
      "cell_type": "code",
      "metadata": {
        "id": "5JP0sv2_V3Oh",
        "colab_type": "code",
        "colab": {}
      },
      "source": [
        "incorrect_index = (~np.logical_xor(Y_test_enc,Y_predicted)).nonzero()"
      ],
      "execution_count": 0,
      "outputs": []
    },
    {
      "cell_type": "code",
      "metadata": {
        "id": "woDctNclXP15",
        "colab_type": "code",
        "outputId": "c44efa93-bb8c-4205-cb2b-4b47952a5222",
        "colab": {
          "base_uri": "https://localhost:8080/",
          "height": 673
        }
      },
      "source": [
        "pd.set_option('display.max_colwidth', -1)\n",
        "df.iloc[incorrect_index].sample(5)"
      ],
      "execution_count": 0,
      "outputs": [
        {
          "output_type": "stream",
          "text": [
            "/usr/local/lib/python3.6/dist-packages/ipykernel_launcher.py:1: FutureWarning: Passing a negative integer is deprecated in version 1.0 and will not be supported in future version. Instead, use None to not limit the column width.\n",
            "  \"\"\"Entry point for launching an IPython kernel.\n"
          ],
          "name": "stderr"
        },
        {
          "output_type": "execute_result",
          "data": {
            "text/html": [
              "<div>\n",
              "<style scoped>\n",
              "    .dataframe tbody tr th:only-of-type {\n",
              "        vertical-align: middle;\n",
              "    }\n",
              "\n",
              "    .dataframe tbody tr th {\n",
              "        vertical-align: top;\n",
              "    }\n",
              "\n",
              "    .dataframe thead th {\n",
              "        text-align: right;\n",
              "    }\n",
              "</style>\n",
              "<table border=\"1\" class=\"dataframe\">\n",
              "  <thead>\n",
              "    <tr style=\"text-align: right;\">\n",
              "      <th></th>\n",
              "      <th>review</th>\n",
              "      <th>sentiment</th>\n",
              "    </tr>\n",
              "  </thead>\n",
              "  <tbody>\n",
              "    <tr>\n",
              "      <th>5106</th>\n",
              "      <td>You'd have more excitement cutting off your testicles than watching this, clearly a trick to get you to rent \"Descent\" instead of \"The Descent\", which is a much better movie.&lt;br /&gt;&lt;br /&gt;This is a total rip off of \"The Core\" and much, much worse as regards special effects, I could do better with a box of cornflakes and a roll of tinfoil, I mean come on!....that \"Mole\" thing, bore more resemblance to a vibrating dildo than a subterranean vehicle .&lt;br /&gt;&lt;br /&gt;Don't watch it - if you do you'll find the room your in has a funny smell for days after and you'll have this nagging feeling in the back of your head that you should go kill yourself or something.</td>\n",
              "      <td>negative</td>\n",
              "    </tr>\n",
              "    <tr>\n",
              "      <th>1987</th>\n",
              "      <td>Gary Busey is superb in this musical biography. Great singing and excellent soundtrack. The Buddy Holly Story is a much better movie than La Bamba. From reading other comments, there may be some historical inaccuracies. Regardless, it is a fun toe-tapping film, and a good introduction to Buddy Holly's music.</td>\n",
              "      <td>positive</td>\n",
              "    </tr>\n",
              "    <tr>\n",
              "      <th>11798</th>\n",
              "      <td>Ghost Train is a fine and entertaining film, typical of the better British comedy chillers of the 1930s and 40s. The antics of comedian Arthur Askey are not as funny as they once apparently were, but this can be overcome by viewing him as a period piece or a curiosity.&lt;br /&gt;&lt;br /&gt;For a low-budget wartime production, Ghost Train is atmospheric, effective, and it provides some genuine suspense. Great fun for a dark (and, yes, stormy) night. Lighten up, take off the critic's hat, and enjoy.</td>\n",
              "      <td>positive</td>\n",
              "    </tr>\n",
              "    <tr>\n",
              "      <th>8697</th>\n",
              "      <td>Witty and disgusting. Brash and intelligent. BASEketball redefines comedy/sports with a pot spoof of an easy target. Makes other so called comedies like dead boring. One of the best of all time! Trey Parker and Matt Stone play their roles as losers with apt perfection.</td>\n",
              "      <td>positive</td>\n",
              "    </tr>\n",
              "    <tr>\n",
              "      <th>1213</th>\n",
              "      <td>being a high school student,i have to take a health class. this year, the topic is drugs. we learn about the harm they can cause a person. from what we talk about, i still believe and know that drugs can really mess a person up. anyway, my teacher wanted us to watch this. naturally, we groan and start to sleep, but like the rest of my class, i actually did enjoy this movie. it was totally real, and not sugar coated at all. the characters were amazing and believable. even the plot was outstandingly realistic and believable. what i liked about this movie mainly was how it got the point of the effect's drugs can take on an abuser, and the consequences the person has to deal with. everyone reassures themselves that nothing bad will happen to them. well lets get serious. anything can happen in a small town, even to your best friend, like Sam and Chris. this movie shows it. a person can really learn a lot from watching this. it was pretty effective.</td>\n",
              "      <td>positive</td>\n",
              "    </tr>\n",
              "  </tbody>\n",
              "</table>\n",
              "</div>"
            ],
            "text/plain": [
              "                                                                                                                                                                                                                                                                                                                                                                                                                                                                                                                                                                                                                                                                                                                                                                                                                                                                                                                                                                                              review sentiment\n",
              "5106   You'd have more excitement cutting off your testicles than watching this, clearly a trick to get you to rent \"Descent\" instead of \"The Descent\", which is a much better movie.<br /><br />This is a total rip off of \"The Core\" and much, much worse as regards special effects, I could do better with a box of cornflakes and a roll of tinfoil, I mean come on!....that \"Mole\" thing, bore more resemblance to a vibrating dildo than a subterranean vehicle .<br /><br />Don't watch it - if you do you'll find the room your in has a funny smell for days after and you'll have this nagging feeling in the back of your head that you should go kill yourself or something.                                                                                                                                                                                                                                                                                                             negative\n",
              "1987   Gary Busey is superb in this musical biography. Great singing and excellent soundtrack. The Buddy Holly Story is a much better movie than La Bamba. From reading other comments, there may be some historical inaccuracies. Regardless, it is a fun toe-tapping film, and a good introduction to Buddy Holly's music.                                                                                                                                                                                                                                                                                                                                                                                                                                                                                                                                                                                                                                                                          positive\n",
              "11798  Ghost Train is a fine and entertaining film, typical of the better British comedy chillers of the 1930s and 40s. The antics of comedian Arthur Askey are not as funny as they once apparently were, but this can be overcome by viewing him as a period piece or a curiosity.<br /><br />For a low-budget wartime production, Ghost Train is atmospheric, effective, and it provides some genuine suspense. Great fun for a dark (and, yes, stormy) night. Lighten up, take off the critic's hat, and enjoy.                                                                                                                                                                                                                                                                                                                                                                                                                                                                                   positive\n",
              "8697   Witty and disgusting. Brash and intelligent. BASEketball redefines comedy/sports with a pot spoof of an easy target. Makes other so called comedies like dead boring. One of the best of all time! Trey Parker and Matt Stone play their roles as losers with apt perfection.                                                                                                                                                                                                                                                                                                                                                                                                                                                                                                                                                                                                                                                                                                                  positive\n",
              "1213   being a high school student,i have to take a health class. this year, the topic is drugs. we learn about the harm they can cause a person. from what we talk about, i still believe and know that drugs can really mess a person up. anyway, my teacher wanted us to watch this. naturally, we groan and start to sleep, but like the rest of my class, i actually did enjoy this movie. it was totally real, and not sugar coated at all. the characters were amazing and believable. even the plot was outstandingly realistic and believable. what i liked about this movie mainly was how it got the point of the effect's drugs can take on an abuser, and the consequences the person has to deal with. everyone reassures themselves that nothing bad will happen to them. well lets get serious. anything can happen in a small town, even to your best friend, like Sam and Chris. this movie shows it. a person can really learn a lot from watching this. it was pretty effective.  positive"
            ]
          },
          "metadata": {
            "tags": []
          },
          "execution_count": 79
        }
      ]
    },
    {
      "cell_type": "markdown",
      "metadata": {
        "id": "VtP9RONmyUNn",
        "colab_type": "text"
      },
      "source": [
        "## References\n",
        "\n",
        "#### Aggregated Dataset source\n",
        "\n",
        "* https://www.kaggle.com/lakshmi25npathi/imdb-dataset-of-50k-movie-reviews\n",
        "* https://ai.stanford.edu/~amaas/data/sentiment/\n",
        "\n",
        "#### Scikit-learn Naïve Bayes Classifier Tutorial\n",
        "\n",
        "* https://scikit-learn.org/stable/tutorial/text_analytics/working_with_text_data.html\n",
        "* https://scikit-learn.org/stable/modules/naive_bayes.html\n",
        "\n",
        "#### Word Embedding Tutorials\n",
        "\n",
        "* https://machinelearningmastery.com/use-word-embedding-layers-deep-learning-keras/\n",
        "* https://colab.research.google.com/github/pasumarthi/Backprop/blob/master/ADR_tweet_classifier_keras.ipynb\n",
        "\n",
        "\n",
        "\n",
        "#### LSTM Tutorials\n",
        "\n",
        "* https://colah.github.io/posts/2015-08-Understanding-LSTMs/\n",
        "* https://medium.com/@saurabh.rathor092/simple-rnn-vs-gru-vs-lstm-difference-lies-in-more-flexible-control-5f33e07b1e57\n",
        "\n",
        "#### Keras - LSTM sentiment analysis sources\n",
        "\n",
        "* https://www.kaggle.com/eriche523/bidirectional-lstm-in-keras\n",
        "* https://www.kaggle.com/khaledmgamal/bag-of-words-rnn-lstm-sentiment/notebook"
      ]
    }
  ]
}